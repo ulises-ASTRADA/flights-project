{
  "cells": [
    {
      "cell_type": "markdown",
      "metadata": {
        "id": "d2DG6iri4e6g"
      },
      "source": [
        "<div class=\"width: 100%; position:relative;\">\n",
        "    <img style=\"float: left; padding-right: 10px; width: 200px\" src=\"https://fligoo.com/img/logo-large.png\">\n",
        "    <div style=\"float: right; font-size: 32px; padding-top: 30px;\">\n",
        "        <b>Take Home - Data Engineer</b>\n",
        "    </div>\n",
        "</div>\n"
      ]
    },
    {
      "cell_type": "markdown",
      "metadata": {
        "id": "kut-HFAh4e6m"
      },
      "source": [
        "# Real-time Flight Status\n",
        "The AviationStack API was built to provide a simple way of accessing global aviation data for real-time and historical flights as well as allow customers to tap into an extensive data set of airline routes and other up-to-date aviation-related information. Requests to the REST API are made using a straightforward HTTP GET URL structure and responses are provided in lightweight JSON format. The objective of this project is to construct an ETL for a client in order to query information from the API, clean it, and store the results into a consumable database.\n",
        "\n",
        "<img src=\"https://s3-us-west-2.amazonaws.com/fligoo.data-science/TechInterviews/RealTimeFlightStatus/header.jpg\"/>\n",
        "\n",
        "**Take-Home Goals**\n",
        "- Navigate to https://aviationstack.com/ and create a key for the API and read the documentation to understand how it works. For this exercise, consider only `flight_status = active` and `limit = 100`. We are not interested in acquiring the entire information, just focus on:\n",
        "\n",
        "```\n",
        "- Flight date\n",
        "- Flight status\n",
        "- Departure\n",
        "     - Airport\n",
        "     - Timezone\n",
        "- Arrival\n",
        "     - Airport\n",
        "     - Timezone\n",
        "     - Terminal\n",
        "- Airline\n",
        "     - Name\n",
        "- Flight\n",
        "     - Number\n",
        "```\n",
        "\n",
        "- Build a docker with the services you think are necessary. The database and the table have to be created when running docker.\n",
        "\n",
        "```\n",
        "Database: testfligoo\n",
        "Table: testdata\n",
        "```\n",
        "- Create a process in [Airflow](https://airflow.apache.org) that allows obtaining the information from the API.\n",
        "- Replace the \"/\" of the `arrivalTerminal` and `departureTimezone` fields for \" - \". E.g: \"Asia/Shanghai\" to \"Asia - Shanghai\"\n",
        "- Insert the information in the database.\n",
        "- Create a Jupyter notebook to consume the information stored in the database.\n",
        "- Show the information in a Pandas dataframe\n",
        "  \n",
        "**Requirements**\n",
        "- Python 3.x & Pandas 1.x\n",
        "- Paying attention to the details and narrative is far way more important than extensive development.\n",
        "- Once you complete the assessment, share the Git repository link.\n",
        "- Have a final meeting with the team to discuss the work done in this notebook and answer the questions that could arise.\n",
        "- Finally, but most important: Have fun!\n",
        "\n",
        "**Nice to have aspects**\n",
        "- Environment isolation.\n",
        "- Code versioning with Git (you are free to publish it on your own Github/Bitbucket account!).\n",
        "- Show proficiency in Python: By showing good practices in the structure and documentation, usage of several programming paradigms (e.g. imperative, OOP, functional), etc.\n"
      ]
    },
    {
      "cell_type": "code",
      "execution_count": null,
      "metadata": {
        "id": "bYzvxER24e6o"
      },
      "outputs": [],
      "source": []
    }
  ],
  "metadata": {
    "kernelspec": {
      "display_name": "Python 3",
      "language": "python",
      "name": "python3"
    },
    "language_info": {
      "codemirror_mode": {
        "name": "ipython",
        "version": 3
      },
      "file_extension": ".py",
      "mimetype": "text/x-python",
      "name": "python",
      "nbconvert_exporter": "python",
      "pygments_lexer": "ipython3",
      "version": "3.9.1"
    },
    "colab": {
      "provenance": []
    }
  },
  "nbformat": 4,
  "nbformat_minor": 0
}