{
 "cells": [
  {
   "cell_type": "code",
   "execution_count": 98,
   "id": "60ac78a6-b863-433f-866e-f0e310d180e2",
   "metadata": {},
   "outputs": [],
   "source": [
    "import requests"
   ]
  },
  {
   "cell_type": "code",
   "execution_count": 99,
   "id": "10c1a708-f2a3-496e-bbd9-e4f0dbc95b82",
   "metadata": {},
   "outputs": [],
   "source": [
    "import pandas as pd"
   ]
  },
  {
   "cell_type": "code",
   "execution_count": 100,
   "id": "4684d359-b798-4e48-b05e-76d3f572ff9c",
   "metadata": {},
   "outputs": [],
   "source": [
    "ACCESS_KEY = '13824a221d87297fe2e6bc3c8ee20a94'\n",
    "BASE_URL = 'https://api.aviationstack.com/v1/'\n",
    "\n",
    "api_result = requests.get(f'{BASE_URL}flights?access_key={ACCESS_KEY}&limit=100&flight_status=active')\n",
    "\n",
    "flights = api_result.json()\n"
   ]
  },
  {
   "cell_type": "code",
   "execution_count": 101,
   "id": "34366f88-253e-4c4b-9f58-f0ae77239070",
   "metadata": {},
   "outputs": [],
   "source": [
    "flights_data = flights['data']"
   ]
  },
  {
   "cell_type": "code",
   "execution_count": 103,
   "id": "9aeae028-c00d-4144-b9c6-75f6e912fbc2",
   "metadata": {},
   "outputs": [
    {
     "ename": "IndentationError",
     "evalue": "unindent does not match any outer indentation level (<tokenize>, line 16)",
     "output_type": "error",
     "traceback": [
      "\u001b[0;36m  File \u001b[0;32m<tokenize>:16\u001b[0;36m\u001b[0m\n\u001b[0;31m    collected_data.append(flight_info)\u001b[0m\n\u001b[0m    ^\u001b[0m\n\u001b[0;31mIndentationError\u001b[0m\u001b[0;31m:\u001b[0m unindent does not match any outer indentation level\n"
     ]
    }
   ],
   "source": [
    "collected_data = []\n",
    "\n",
    "for flight in flights_data:\n",
    "\n",
    "     flight_info = {\n",
    "        'flight_date': flight['flight_date'],\n",
    "        'flight_status': flight['flight_status'],\n",
    "        'departure_airport': flight['departure']['airport'],\n",
    "        'arrival_airport': flight['arrival']['airport'],\n",
    "        'arrival_timezone' : flight['arrival']['timezone'],\n",
    "        'arrival_terminal' : flight['arrival']['terminal'],\n",
    "        'airline_name': flight['airline']['name'],\n",
    "        'flight_number': flight['flight']['number']\n",
    "    }\n",
    "\n",
    "        collected_data.append(flight_info)\n",
    "\n",
    "print(collected_data)\n"
   ]
  },
  {
   "cell_type": "code",
   "execution_count": null,
   "id": "851531f8-3248-42b9-b4ef-3871ae528594",
   "metadata": {},
   "outputs": [],
   "source": []
  },
  {
   "cell_type": "code",
   "execution_count": null,
   "id": "31a24ab6-f262-433f-b96f-f7a129482638",
   "metadata": {},
   "outputs": [],
   "source": []
  }
 ],
 "metadata": {
  "kernelspec": {
   "display_name": "Python 3",
   "language": "python",
   "name": "python3"
  },
  "language_info": {
   "codemirror_mode": {
    "name": "ipython",
    "version": 3
   },
   "file_extension": ".py",
   "mimetype": "text/x-python",
   "name": "python",
   "nbconvert_exporter": "python",
   "pygments_lexer": "ipython3",
   "version": "3.11.4"
  }
 },
 "nbformat": 4,
 "nbformat_minor": 5
}
